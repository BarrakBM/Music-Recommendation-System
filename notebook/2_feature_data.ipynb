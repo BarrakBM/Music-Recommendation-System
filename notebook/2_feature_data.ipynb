{
 "cells": [
  {
   "cell_type": "markdown",
   "metadata": {},
   "source": [
    "### featuring data\n",
    "\n",
    "* load the cleaned data\n",
    "* Scale Numeric features (e.g., tempo, loudness)\n",
    "* Encode Categorical variables (key, mode)\n",
    "  * Explicit column to check if song contain explicit content\n",
    "* process text data for Artists (Label encoding)\n",
    "* Extract release date (Could be used for better additional insight)\n",
    "* Combine features into single dataset\n",
    "  * Merge scaled numeric features and encoded categorical features\n",
    "  * ensure there's no mismatch\n",
    "* Save data "
   ]
  }
 ],
 "metadata": {
  "language_info": {
   "name": "python"
  }
 },
 "nbformat": 4,
 "nbformat_minor": 2
}
