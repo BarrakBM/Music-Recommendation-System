{
 "cells": [
  {
   "cell_type": "markdown",
   "metadata": {},
   "source": [
    "### Model builing\n",
    "\n",
    "* Compute similarity ( Eulidean distance)\n",
    "  * Compute the similarity matrix that show how similar each song to other songs \n",
    "* Implement Recommendation Function\n",
    "* pass user recomendtion as argument in the recommendaiton funtion\n",
    "  * it's going to be an object either"
   ]
  }
 ],
 "metadata": {
  "language_info": {
   "name": "python"
  }
 },
 "nbformat": 4,
 "nbformat_minor": 2
}
