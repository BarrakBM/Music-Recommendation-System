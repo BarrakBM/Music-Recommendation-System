{
 "cells": [
  {
   "cell_type": "markdown",
   "metadata": {},
   "source": [
    "### Model builing\n",
    "\n",
    "* Compute similarity ( Eulidean distance)\n",
    "  * Compute the similarity matrix that show how similar each song to other songs \n",
    "* Implement Recommendation Function\n",
    "* pass user recomendtion as argument in the recommendaiton funtion\n",
    "  * it's going to be an object either"
   ]
  }
 ],
 "metadata": {
  "kernelspec": {
   "display_name": ".venv",
   "language": "python",
   "name": "python3"
  },
  "language_info": {
   "codemirror_mode": {
    "name": "ipython",
    "version": 3
   },
   "file_extension": ".py",
   "mimetype": "text/x-python",
   "name": "python",
   "nbconvert_exporter": "python",
   "pygments_lexer": "ipython3",
   "version": "3.10.0"
  }
 },
 "nbformat": 4,
 "nbformat_minor": 2
}
