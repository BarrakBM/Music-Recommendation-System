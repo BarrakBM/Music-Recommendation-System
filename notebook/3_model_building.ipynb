{
 "cells": [
  {
   "cell_type": "markdown",
   "metadata": {},
   "source": [
    "### Model builing\n",
    "\n",
    "* Compute similarity ( Eulidean distance)\n",
    "  * Compute the similarity matrix that show how similar each song to other songs \n",
    "* Implement Recommendation Function\n",
    "* pass user recomendtion as argument in the recommendaiton funtion\n",
    "  * it's going to be an object either"
   ]
  },
  {
   "cell_type": "code",
   "execution_count": 8,
   "metadata": {},
   "outputs": [
    {
     "data": {
      "image/png": "[encoded data removed]",
      "text/plain": [
       "<Figure size 640x480 with 1 Axes>"
      ]
     },
     "metadata": {},
     "output_type": "display_data"
    }
   ],
   "source": [
    "import pandas as pd\n",
    "from sklearn.preprocessing import MinMaxScaler\n",
    "from sklearn.cluster import KMeans\n",
    "import matplotlib.pyplot as plt\n",
    "\n",
    "# Implement K-means clustering\n",
    "\n",
    "#read the file\n",
    "df = pd.read_csv(\"../dataset/features.csv\")\n",
    "\n",
    "# drop non numerical value for clustering\n",
    "df_clustering = df.drop(columns=['artists', 'id', 'name', 'release_date'])\n",
    "\n",
    "# finding optimal number of cluster using Elbow method\n",
    "# a list to store ineria value (sum of squared distances of samples to their closest cluster center)\n",
    "inertia_list = []\n",
    "\n",
    "K_values = range(1,30)\n",
    "\n",
    "for k in K_values: \n",
    "    # initlize k means\n",
    "    k_Means = KMeans(n_clusters=k, random_state=42)\n",
    "    # fit the model \n",
    "    k_Means.fit(df_clustering)\n",
    "    # store k_Values to the list \n",
    "    inertia_list.append(k_Means.inertia_)\n",
    "\n",
    "# plot the inertia to find the optimal k value (number of clusters)\n",
    "plt.plot(K_values, inertia_list, 'bx-')\n",
    "plt.xlabel('Number of clusters (k)')\n",
    "plt.ylabel('Inertia')\n",
    "plt.title('Elbow Method For Optimal k')\n",
    "plt.show()"
   ]
  },
  {
   "cell_type": "code",
   "execution_count": 23,
   "metadata": {},
   "outputs": [
    {
     "name": "stdout",
     "output_type": "stream",
     "text": [
      "   acousticness              artists  danceability  duration_ms  energy  \\\n",
      "0         0.995  ['Carl Woitschach']         0.708       158648   0.195   \n",
      "\n",
      "   explicit                      id  instrumentalness  key  liveness  ...  \\\n",
      "0         0  6KbQ3uYMLKb5jDxLF7wYDD             0.563   10     0.151  ...   \n",
      "\n",
      "                          name  popularity release_date  speechiness  \\\n",
      "0  Singende Bataillone 1. Teil         0.0         1928       0.0506   \n",
      "\n",
      "      tempo  valence  year   key_sin  key_cos  cluster  \n",
      "0  0.485348    0.779  1928 -0.866025      0.5        4  \n",
      "\n",
      "[1 rows x 22 columns]\n",
      "\n",
      " Numebr of songs in each clusetr:\n",
      "\n",
      "cluster\n",
      "1    74040\n",
      "2    42957\n",
      "4    36311\n",
      "0    12737\n",
      "5     3282\n",
      "3      537\n",
      "6       45\n",
      "Name: count, dtype: int64\n"
     ]
    }
   ],
   "source": [
    "# Based on the plot and few testings, the optimal amount of cluster is aorund 7\n",
    "\n",
    "#initlizing Kmmeans\n",
    "K_means = KMeans(n_clusters=7, random_state=42)\n",
    "\n",
    "# fit the data\n",
    "K_means.fit(df_clustering) \n",
    "\n",
    "# assign songs to clusters\n",
    "df['cluster'] = K_means.labels_\n",
    "\n",
    "# Save the clustering result\n",
    "df.to_csv(\"../dataset/clustered_songs.csv\", index=False)\n",
    "\n",
    "# Display the first few rows\n",
    "print(df.head(1))\n",
    "\n",
    "\n",
    "# Number of songs in each cluster\n",
    "print(f'\\n Numebr of songs in each clusetr:\\n')\n",
    "print(df['cluster'].value_counts())\n",
    "\n",
    "\n"
   ]
  },
  {
   "cell_type": "markdown",
   "metadata": {},
   "source": [
    "#### **Recommendation fucntion**"
   ]
  },
  {
   "cell_type": "code",
   "execution_count": 1,
   "metadata": {},
   "outputs": [],
   "source": [
    "## def get_recommendations(selected_song_ids, df, K_means, num_recommendations=10):\n",
    "    # Retrieve the clusters of the selected songs\n",
    "from sklearn.metrics.pairwise import euclidean_distances\n",
    "\n",
    "def get_recommendations(selected_song_ids, df, K_means, num_recommendations=10):\n",
    "\n",
    "    # check if id is not empty\n",
    "    if selected_song_ids is None:\n",
    "        raise ValueError(\"selected_song_ids must be provided.\")\n",
    "\n",
    "    # Rertieve the features\n",
    "    # drop unecessory cols\n",
    "    # \n",
    "    song_features = df[df['id'].isin(selected_song_ids)].drop(columns=['artists', 'id', 'name', 'release_date', 'cluster'])\n",
    "    user_profile_vector = song_features.mean().values\n",
    "\n",
    "    # to predict which cluster the user profile vector belong too \n",
    "    user_cluster = K_means.predict([user_profile_vector])[0]\n",
    "\n",
    "    # get the candidate songs (potential recommendation)\n",
    "    candidate_songs = df[df['cluster'] == user_cluster]\n",
    "\n",
    "    # remove songs user already selected\n",
    "    candidate_songs = candidate_songs[~candidate_songs['id'].isin(selected_song_ids)]\n",
    "\n",
    "    # Compute similarities between the user profile and candidate using euclidean distance\n",
    "    candidate_features = candidate_songs.drop(columns=['artists', 'id', 'name', 'release_date', 'cluster']).values\n",
    "    distances = euclidean_distances([user_profile_vector], candidate_features)[0]\n",
    "\n",
    "    # Add distances to the candidate songs DataFrame\n",
    "    candidate_songs = candidate_songs.copy()\n",
    "    candidate_songs['distance'] = distances\n",
    "\n",
    "    # Recommend the top N songs based on the closest distances\n",
    "    recommended_songs = candidate_songs.sort_values('distance').head(num_recommendations)\n",
    "\n",
    "    return recommended_songs[['artists', 'name', 'id']]\n"
   ]
  }
 ],
 "metadata": {
  "kernelspec": {
   "display_name": ".venv",
   "language": "python",
   "name": "python3"
  },
  "language_info": {
   "codemirror_mode": {
    "name": "ipython",
    "version": 3
   },
   "file_extension": ".py",
   "mimetype": "text/x-python",
   "name": "python",
   "nbconvert_exporter": "python",
   "pygments_lexer": "ipython3",
   "version": "3.10.0"
  }
 },
 "nbformat": 4,
 "nbformat_minor": 2
}
